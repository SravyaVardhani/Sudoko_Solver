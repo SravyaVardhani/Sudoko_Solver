{
 "cells": [
  {
   "cell_type": "code",
   "execution_count": 18,
   "id": "cfa8c936",
   "metadata": {},
   "outputs": [
    {
     "name": "stdout",
     "output_type": "stream",
     "text": [
      "[[9 2 6 5 7 1 4 8 3]\n",
      " [3 5 1 4 8 6 2 7 9]\n",
      " [8 7 4 9 2 3 5 1 6]\n",
      " [5 8 2 3 6 7 1 9 4]\n",
      " [1 4 9 2 5 8 3 6 7]\n",
      " [7 6 3 1 4 9 8 2 5]\n",
      " [2 3 8 7 9 4 6 5 1]\n",
      " [6 1 7 8 3 5 9 4 2]\n",
      " [4 9 5 6 1 2 7 3 8]]\n",
      "Press ENTER to see more possible solutions\n",
      "[[9 2 6 5 7 1 4 8 3]\n",
      " [3 5 1 4 8 6 2 7 9]\n",
      " [8 7 4 9 2 3 5 1 6]\n",
      " [5 8 2 3 6 7 1 9 4]\n",
      " [1 4 9 2 5 8 3 6 7]\n",
      " [7 6 3 1 9 4 8 2 5]\n",
      " [2 3 8 7 4 9 6 5 1]\n",
      " [6 1 7 8 3 5 9 4 2]\n",
      " [4 9 5 6 1 2 7 3 8]]\n",
      "Press ENTER to see more possible solutions\n"
     ]
    }
   ],
   "source": [
    "import numpy as np\n",
    "\n",
    "grid = [[9,0,6,0,7,0,4,0,3],\n",
    "        [0,0,0,4,0,0,2,0,0],\n",
    "        [0,7,0,0,2,3,0,1,0],\n",
    "        [5,0,0,0,0,0,1,0,0],\n",
    "        [0,4,0,2,0,8,0,6,0],\n",
    "        [0,0,3,0,0,0,0,0,5],\n",
    "        [0,3,0,7,0,0,0,5,0],\n",
    "        [0,0,7,0,0,5,0,0,0],\n",
    "        [4,0,5,0,1,0,7,0,8]]\n",
    "\n",
    "def possible(row, column, number):\n",
    "    global grid\n",
    "    #Is the number appearing in the given row?\n",
    "    for i in range(0,9):\n",
    "        if grid[row][i] == number:\n",
    "            return False\n",
    "\n",
    "    #Is the number appearing in the given column?\n",
    "    for i in range(0,9):\n",
    "        if grid[i][column] == number:\n",
    "            return False\n",
    "    \n",
    "    #Is the number appearing in the given square?\n",
    "    x = (column // 3) * 3\n",
    "    y = (row // 3) * 3\n",
    "    for i in range(0,3):\n",
    "        for j in range(0,3):\n",
    "            if grid[y+i][x+j] == number:\n",
    "                return False\n",
    "\n",
    "    return True\n",
    "\n",
    "def solve():\n",
    "    global grid\n",
    "    for row in range(0,9):\n",
    "        for column in range(0,9):\n",
    "            if grid[row][column] == 0:\n",
    "                for number in range(1,10):\n",
    "                    if possible(row, column, number):\n",
    "                        grid[row][column] = number\n",
    "                        solve()\n",
    "                        grid[row][column] = 0\n",
    "\n",
    "                return\n",
    "      \n",
    "    print(np.matrix(grid))\n",
    "    input('Press ENTER to see more possible solutions')\n",
    "\n",
    "solve()"
   ]
  }
 ],
 "metadata": {
  "kernelspec": {
   "display_name": "Python 3 (ipykernel)",
   "language": "python",
   "name": "python3"
  },
  "language_info": {
   "codemirror_mode": {
    "name": "ipython",
    "version": 3
   },
   "file_extension": ".py",
   "mimetype": "text/x-python",
   "name": "python",
   "nbconvert_exporter": "python",
   "pygments_lexer": "ipython3",
   "version": "3.10.9"
  }
 },
 "nbformat": 4,
 "nbformat_minor": 5
}
